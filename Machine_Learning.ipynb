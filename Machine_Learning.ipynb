{
  "nbformat": 4,
  "nbformat_minor": 0,
  "metadata": {
    "colab": {
      "provenance": []
    },
    "kernelspec": {
      "name": "python3",
      "display_name": "Python 3"
    },
    "language_info": {
      "name": "python"
    }
  },
  "cells": [
    {
      "cell_type": "markdown",
      "source": [
        "**TITLE OF PROJECT**-HAND WRITTEN DIGIT PREDICTION-CLASSIFICATION ANALYSIS\n",
        "\n",
        "**OBJECTIVE**-THE DIGITS DATASET CONSISTS OF 8X8 PIXEL IMAGES OF DIGITS. THE IMAGES ATTRIBUTE OF THE DATASET STORES 8X8 ARRAYS OF GREYSCALE VALUES FOR EACH IMAGE. WE WILL USE THESE ARRAYS TO VISUALIZE THE FIRST 4 IMAGES. THE TARGET ATTRIBUTE OF THE DATASET STORES THE DIGIT EACH IMAGE REPRESENTS."
      ],
      "metadata": {
        "id": "2b70mLphWm3D"
      }
    },
    {
      "cell_type": "code",
      "execution_count": 23,
      "metadata": {
        "id": "7eIi5jNUV99l"
      },
      "outputs": [],
      "source": [
        "#IMPORT LIBRARY\n",
        "import pandas as pd\n",
        "import numpy as np\n",
        "import matplotlib.pyplot as plt"
      ]
    },
    {
      "cell_type": "code",
      "source": [
        "#IMPORT DATA\n",
        "from sklearn.datasets import load_digits\n",
        "df= load_digits()\n",
        "_, axes= plt.subplots(nrows=1,ncols=4,figsize=(10,3))\n",
        "for ax,image,label in zip(axes,df.images,df.target):\n",
        "  ax.set_axis_off()\n",
        "  ax.imshow(image,cmap=plt.cm.gray_r,interpolation=\"nearest\")\n",
        "  ax.set_title(\"Training:%i\"%label)"
      ],
      "metadata": {
        "id": "v3mlZ6y_WIqY"
      },
      "execution_count": null,
      "outputs": []
    },
    {
      "cell_type": "code",
      "source": [
        "df.images.shape"
      ],
      "metadata": {
        "id": "kn6gz_82Ziik"
      },
      "execution_count": null,
      "outputs": []
    },
    {
      "cell_type": "code",
      "source": [
        "df.images[0]"
      ],
      "metadata": {
        "id": "AwWyc3BjZiRx"
      },
      "execution_count": null,
      "outputs": []
    },
    {
      "cell_type": "code",
      "source": [
        "df.images[0].shape"
      ],
      "metadata": {
        "id": "3hcHsYIOaFr7"
      },
      "execution_count": null,
      "outputs": []
    },
    {
      "cell_type": "code",
      "source": [
        "len(df.images)"
      ],
      "metadata": {
        "id": "K9twhuS5aFo0"
      },
      "execution_count": null,
      "outputs": []
    },
    {
      "cell_type": "code",
      "source": [
        "n_samples=len(df.images)\n",
        "data=df.images.reshape((n_samples,-1))"
      ],
      "metadata": {
        "id": "lTgkXlyRaFl7"
      },
      "execution_count": 8,
      "outputs": []
    },
    {
      "cell_type": "code",
      "source": [
        "data[0]"
      ],
      "metadata": {
        "id": "OCtbXS7waFi5"
      },
      "execution_count": null,
      "outputs": []
    },
    {
      "cell_type": "code",
      "source": [
        "data[0].shape"
      ],
      "metadata": {
        "id": "TbFyB_eqaFfu"
      },
      "execution_count": null,
      "outputs": []
    },
    {
      "cell_type": "code",
      "source": [
        "data.shape"
      ],
      "metadata": {
        "id": "bxGkLW1haFcW"
      },
      "execution_count": null,
      "outputs": []
    },
    {
      "cell_type": "code",
      "source": [
        "#SCALING IMAGE DATA\n",
        "data.min()"
      ],
      "metadata": {
        "id": "enkPzEHoaFYa"
      },
      "execution_count": null,
      "outputs": []
    },
    {
      "cell_type": "code",
      "source": [
        "data.max()"
      ],
      "metadata": {
        "id": "EgZZWbahaFSW"
      },
      "execution_count": null,
      "outputs": []
    },
    {
      "cell_type": "code",
      "source": [
        "data=data/16"
      ],
      "metadata": {
        "id": "qVUtTvU5bC00"
      },
      "execution_count": 19,
      "outputs": []
    },
    {
      "cell_type": "code",
      "source": [
        "data.min()"
      ],
      "metadata": {
        "id": "79YG19f9bCwz"
      },
      "execution_count": null,
      "outputs": []
    },
    {
      "cell_type": "code",
      "source": [
        "data.max()"
      ],
      "metadata": {
        "id": "XI6hvKj0bCoz"
      },
      "execution_count": null,
      "outputs": []
    },
    {
      "cell_type": "code",
      "source": [
        "data[0]"
      ],
      "metadata": {
        "id": "tMvIXgMgbJJv"
      },
      "execution_count": null,
      "outputs": []
    },
    {
      "cell_type": "code",
      "source": [
        "#TRAIN TEST SPLIT DATA\n",
        "from sklearn.model_selection import train_test_split\n",
        "X_train,X_test,y_train,y_test=train_test_split(data,df.target,test_size=0.3)\n",
        "X_train.shape,X_test.shape,y_train.shape,y_test.shape"
      ],
      "metadata": {
        "id": "QpDCPT-jbJGY"
      },
      "execution_count": null,
      "outputs": []
    },
    {
      "cell_type": "code",
      "source": [
        "#random forest model\n",
        "from sklearn.ensemble import RandomForestClassifier\n",
        "rf= RandomForestClassifier()\n",
        "rf.fit(X_train,y_train)"
      ],
      "metadata": {
        "id": "Yl5jlyHwbJCe"
      },
      "execution_count": null,
      "outputs": []
    },
    {
      "cell_type": "code",
      "source": [
        "#Predict test data\n",
        "y_pred=rf.predict(X_test)\n",
        "y_pred"
      ],
      "metadata": {
        "id": "mbrk8YIPbI-2"
      },
      "execution_count": null,
      "outputs": []
    },
    {
      "cell_type": "code",
      "source": [
        "#Model Accuracy\n",
        "from sklearn.metrics import confusion_matrix, classification_report\n",
        "confusion_matrix(y_test,y_pred)"
      ],
      "metadata": {
        "id": "7PYQsYtybI8X"
      },
      "execution_count": null,
      "outputs": []
    },
    {
      "cell_type": "code",
      "source": [
        "print(classification_report(y_test,y_pred))"
      ],
      "metadata": {
        "id": "WF1-xo2bbI6A"
      },
      "execution_count": null,
      "outputs": []
    }
  ]
}